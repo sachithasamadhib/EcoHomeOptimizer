{
 "cells": [
  {
   "cell_type": "code",
   "execution_count": null,
   "id": "673b5d51",
   "metadata": {},
   "outputs": [],
   "source": [
    "import pandas as pd\n",
    "from sklearn.preprocessing import LabelEncoder"
   ]
  },
  {
   "cell_type": "code",
   "execution_count": null,
   "id": "6cdcdc59",
   "metadata": {},
   "outputs": [],
   "source": [
    "load_df = pd.read_csv('Dataset/smart_grid_load.csv')\n",
    "theft_df = pd.read_csv('Dataset/electricity_theft.csv')"
   ]
  },
  {
   "cell_type": "code",
   "execution_count": null,
   "id": "bd15ebf6",
   "metadata": {},
   "outputs": [],
   "source": [
    "load_df.fillna(load_df.mean(), inplace=True)\n",
    "theft_df.fillna(theft_df.mode().iloc[0], inplace=True)"
   ]
  },
  {
   "cell_type": "code",
   "execution_count": null,
   "id": "9da1814e",
   "metadata": {},
   "outputs": [],
   "source": [
    "# Encode categorical columns if any\n",
    "le = LabelEncoder()\n",
    "if 'category_column' in theft_df:\n",
    "    theft_df['category_column'] = le.fit_transform(theft_df['category_column'])"
   ]
  },
  {
   "cell_type": "code",
   "execution_count": null,
   "id": "5566196e",
   "metadata": {},
   "outputs": [],
   "source": [
    "# Save processed datasets\n",
    "load_df.to_csv('load_processed.csv', index=False)\n",
    "theft_df.to_csv('theft_processed.csv', index=False)"
   ]
  }
 ],
 "metadata": {
  "kernelspec": {
   "display_name": "Python 3",
   "language": "python",
   "name": "python3"
  },
  "language_info": {
   "codemirror_mode": {
    "name": "ipython",
    "version": 3
   },
   "file_extension": ".py",
   "mimetype": "text/x-python",
   "name": "python",
   "nbconvert_exporter": "python",
   "pygments_lexer": "ipython3",
   "version": "3.13.9"
  }
 },
 "nbformat": 4,
 "nbformat_minor": 5
}
